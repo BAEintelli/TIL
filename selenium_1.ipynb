{
 "cells": [
  {
   "cell_type": "markdown",
   "metadata": {},
   "source": [
    "### Selenium\n",
    "- 브라우저를 직접 실행하여 자동화하고 브라우저상에 있는 데이터를 수집\n",
    "- 웹 테스트 자동화를 위해서 만들어진 라이브러리\n",
    "- 다양한 브라우져 지원\n",
    "- 다양한 언어를 지원"
   ]
  },
  {
   "cell_type": "markdown",
   "metadata": {},
   "source": [
    "#### 설정\n",
    "- selenium chrome driver 설정\n",
    "    - 크롬 드라이브 다운로드\n",
    "    - 본인 컴퓨터에 맞는 드라이버 버전을 다운로드\n",
    "    - 사용중인 주피터 노트북과 같은 디렉토리에 크롬드라이버 파일 업로드\n",
    "    - windows\n",
    "        - 환경변수 추가\n",
    "        - 내컴퓨터 - 속성 - 고급시스템설정 -환경변수\n",
    "        - chromedriver의 path를 추가\n",
    "- selenium python package 설치\n",
    "    - sudo pip install selenium\n",
    "    - conda install -c  conda-forge selenium\n",
    "    \n"
   ]
  },
  {
   "cell_type": "code",
   "execution_count": 1,
   "metadata": {},
   "outputs": [],
   "source": [
    "from selenium import webdriver"
   ]
  },
  {
   "cell_type": "code",
   "execution_count": 2,
   "metadata": {},
   "outputs": [],
   "source": [
    "driver = webdriver.Chrome()"
   ]
  },
  {
   "cell_type": "code",
   "execution_count": 3,
   "metadata": {},
   "outputs": [],
   "source": [
    "# 페이지 이동 : get\n",
    "driver.get(\"https://daum.net\")"
   ]
  },
  {
   "cell_type": "code",
   "execution_count": 4,
   "metadata": {},
   "outputs": [],
   "source": [
    "# 윈도우 사이즈 조절\n",
    "driver.set_window_size(3000, 3000)"
   ]
  },
  {
   "cell_type": "code",
   "execution_count": 8,
   "metadata": {},
   "outputs": [],
   "source": [
    "# 스크롤 위치 조절\n",
    "driver.execute_script(\"window.scrollTo(200, 300); \")"
   ]
  },
  {
   "cell_type": "code",
   "execution_count": 9,
   "metadata": {},
   "outputs": [],
   "source": [
    "# alert 창 다루기\n",
    "driver.execute_script(\"alert('FastCampus!');\")"
   ]
  },
  {
   "cell_type": "code",
   "execution_count": 10,
   "metadata": {},
   "outputs": [],
   "source": [
    "alert = driver.switch_to.alert\n",
    "alert.accept()"
   ]
  },
  {
   "cell_type": "code",
   "execution_count": 17,
   "metadata": {},
   "outputs": [],
   "source": [
    "# input 태그에 문자열 입력\n",
    "# select_one 과 같은의미로 find element_by_css_selector\n",
    "# select 과 같은의미로 find elements_by_css_selector\n",
    "driver.find_element_by_css_selector(\"#q\").send_keys(\"패스트 캠퍼스\")"
   ]
  },
  {
   "cell_type": "code",
   "execution_count": 19,
   "metadata": {},
   "outputs": [],
   "source": [
    "driver.find_element_by_css_selector(\"#q\").clear()\n",
    "driver.find_element_by_css_selector(\"#q\").send_keys(\"파이썬\")"
   ]
  },
  {
   "cell_type": "code",
   "execution_count": 23,
   "metadata": {},
   "outputs": [],
   "source": [
    "# button 클릭 \n",
    "driver.find_element_by_css_selector(\".inner_search > .btn_search\").click()"
   ]
  },
  {
   "cell_type": "code",
   "execution_count": 24,
   "metadata": {},
   "outputs": [],
   "source": [
    "# 브라우저 종료\n",
    "driver.quit()"
   ]
  },
  {
   "cell_type": "markdown",
   "metadata": {},
   "source": [
    "#### Darksky api 키 재발급 자동화"
   ]
  },
  {
   "cell_type": "markdown",
   "metadata": {},
   "source": [
    "https://darksky.net/dev"
   ]
  },
  {
   "cell_type": "code",
   "execution_count": 33,
   "metadata": {},
   "outputs": [],
   "source": [
    "# 브라우져 열기\n",
    "driver = webdriver.Chrome()\n"
   ]
  },
  {
   "cell_type": "code",
   "execution_count": 36,
   "metadata": {},
   "outputs": [],
   "source": [
    "# 로그인 페이지 이동\n",
    "driver.get(\"https://darksky.net/dev/login\")\n",
    "driver.set_window_size(3000, 3000)"
   ]
  },
  {
   "cell_type": "code",
   "execution_count": 41,
   "metadata": {},
   "outputs": [],
   "source": [
    "# 이메일, 패스워드 입력\n",
    "\n",
    "email = \"control0821@naver.com\"\n",
    "pw = \"qhsqn6384!\"\n",
    "driver.find_element_by_css_selector(\"#email\")\\\n",
    ".send_keys(email)\n",
    "driver.find_element_by_css_selector(\"#password\")\\\n",
    ".send_keys(pw)"
   ]
  },
  {
   "cell_type": "code",
   "execution_count": 42,
   "metadata": {},
   "outputs": [],
   "source": [
    "# 로그인 버튼 클릭\n",
    "\n",
    "driver.find_element_by_css_selector('[type=\"submit\"]')\\\n",
    ".click()"
   ]
  },
  {
   "cell_type": "code",
   "execution_count": 44,
   "metadata": {},
   "outputs": [],
   "source": [
    "# 리셋 시크릿 버튼 클릭\n",
    "driver.find_element_by_css_selector('.reset-key')\\\n",
    ".click()"
   ]
  },
  {
   "cell_type": "code",
   "execution_count": 45,
   "metadata": {},
   "outputs": [],
   "source": [
    "# alert 확인버튼 클릭\n",
    "alert = driver.switch_to.alert\n",
    "alert.accept()"
   ]
  },
  {
   "cell_type": "code",
   "execution_count": 46,
   "metadata": {},
   "outputs": [
    {
     "data": {
      "text/plain": [
       "'730ecff81df975de2cd97592fda7340b'"
      ]
     },
     "execution_count": 46,
     "metadata": {},
     "output_type": "execute_result"
    }
   ],
   "source": [
    "# 바뀐 키값 출력\n",
    "s_key = driver.find_element_by_css_selector('#api-key').get_attribute(\"value\")\n",
    "s_key\n"
   ]
  },
  {
   "cell_type": "code",
   "execution_count": 32,
   "metadata": {},
   "outputs": [],
   "source": [
    "# 브라우져 종료"
   ]
  },
  {
   "cell_type": "code",
   "execution_count": 47,
   "metadata": {},
   "outputs": [],
   "source": [
    "driver.quit()"
   ]
  },
  {
   "cell_type": "code",
   "execution_count": 40,
   "metadata": {},
   "outputs": [],
   "source": []
  },
  {
   "cell_type": "code",
   "execution_count": 48,
   "metadata": {},
   "outputs": [],
   "source": [
    "def darkskyapi_auto(email, pw):\n",
    "    driver = webdriver.Chrome()\n",
    "    driver.get(\"https://darksky.net/dev/login\")\n",
    "    driver.set_window_size(3000, 3000)\n",
    "    driver.find_element_by_css_selector(\"#email\").send_keys(email)\n",
    "    driver.find_element_by_css_selector(\"#password\").send_keys(pw)\n",
    "    driver.find_element_by_css_selector('[type=\"submit\"]').click()\n",
    "    driver.find_element_by_css_selector('.reset-key').click()\n",
    "    alert = driver.switch_to.alert\n",
    "    alert.accept()\n",
    "    s_key = driver.find_element_by_css_selector('#api-key').get_attribute(\"value\")\n",
    "    driver.quit()\n",
    "    return s_key\n"
   ]
  },
  {
   "cell_type": "code",
   "execution_count": 49,
   "metadata": {},
   "outputs": [
    {
     "data": {
      "text/plain": [
       "'0ec901ccf76521216117d76596bcf7b3'"
      ]
     },
     "execution_count": 49,
     "metadata": {},
     "output_type": "execute_result"
    }
   ],
   "source": [
    "email = \"control0821@naver.com\"\n",
    "pw = \"qhsqn6384!\"\n",
    "darkskyapi_auto(email, pw)"
   ]
  },
  {
   "cell_type": "code",
   "execution_count": null,
   "metadata": {},
   "outputs": [],
   "source": []
  }
 ],
 "metadata": {
  "kernelspec": {
   "display_name": "Python 3",
   "language": "python",
   "name": "python3"
  },
  "language_info": {
   "codemirror_mode": {
    "name": "ipython",
    "version": 3
   },
   "file_extension": ".py",
   "mimetype": "text/x-python",
   "name": "python",
   "nbconvert_exporter": "python",
   "pygments_lexer": "ipython3",
   "version": "3.7.4"
  }
 },
 "nbformat": 4,
 "nbformat_minor": 2
}
