{
 "cells": [
  {
   "cell_type": "markdown",
   "metadata": {},
   "source": [
    "### 문제설명"
   ]
  },
  {
   "cell_type": "markdown",
   "metadata": {},
   "source": [
    "124 나라가 있습니다. 124 나라에서는 10진법이 아닌 다음과 같은 자신들만의 규칙으로 수를 표현합니다.\n",
    "\n",
    "- 124 나라에는 자연수만 존재합니다.\n",
    "- 124 나라에는 모든 수를 표현할 때 1, 2, 4만 사용합니다."
   ]
  },
  {
   "cell_type": "markdown",
   "metadata": {},
   "source": [
    "### 제한사항"
   ]
  },
  {
   "cell_type": "markdown",
   "metadata": {},
   "source": [
    "- n은 500,000,000이하의 자연수 입니다."
   ]
  },
  {
   "cell_type": "markdown",
   "metadata": {},
   "source": [
    "### 예시"
   ]
  },
  {
   "cell_type": "code",
   "execution_count": 55,
   "metadata": {},
   "outputs": [],
   "source": [
    "example = [{\"10진수\": \"1\", \"124나라\":\"1\"}, {\"10진수\": \"2\", \"124나라\":\"2\"},{\"10진수\": \"3\", \"124나라\":\"4\"},{\"10진수\": \"4\", \"124나라\":\"11\"},{\"10진수\": \"5\", \"124나라\":\"12\"},{\"10진수\": \"6\", \"124나라\":\"14\"},{\"10진수\": \"7\", \"124나라\":\"21\"},{\"10진수\": \"8\", \"124나라\":\"22\"},{\"10진수\": \"9\", \"124나라\":\"24\"},{\"10진수\": \"10\", \"124나라\":\"41\"}]"
   ]
  },
  {
   "cell_type": "code",
   "execution_count": 56,
   "metadata": {},
   "outputs": [
    {
     "data": {
      "text/html": [
       "<div>\n",
       "<style scoped>\n",
       "    .dataframe tbody tr th:only-of-type {\n",
       "        vertical-align: middle;\n",
       "    }\n",
       "\n",
       "    .dataframe tbody tr th {\n",
       "        vertical-align: top;\n",
       "    }\n",
       "\n",
       "    .dataframe thead th {\n",
       "        text-align: right;\n",
       "    }\n",
       "</style>\n",
       "<table border=\"1\" class=\"dataframe\">\n",
       "  <thead>\n",
       "    <tr style=\"text-align: right;\">\n",
       "      <th></th>\n",
       "      <th>10진수</th>\n",
       "      <th>124나라</th>\n",
       "    </tr>\n",
       "  </thead>\n",
       "  <tbody>\n",
       "    <tr>\n",
       "      <td>0</td>\n",
       "      <td>1</td>\n",
       "      <td>1</td>\n",
       "    </tr>\n",
       "    <tr>\n",
       "      <td>1</td>\n",
       "      <td>2</td>\n",
       "      <td>2</td>\n",
       "    </tr>\n",
       "    <tr>\n",
       "      <td>2</td>\n",
       "      <td>3</td>\n",
       "      <td>4</td>\n",
       "    </tr>\n",
       "    <tr>\n",
       "      <td>3</td>\n",
       "      <td>4</td>\n",
       "      <td>11</td>\n",
       "    </tr>\n",
       "    <tr>\n",
       "      <td>4</td>\n",
       "      <td>5</td>\n",
       "      <td>12</td>\n",
       "    </tr>\n",
       "    <tr>\n",
       "      <td>5</td>\n",
       "      <td>6</td>\n",
       "      <td>14</td>\n",
       "    </tr>\n",
       "    <tr>\n",
       "      <td>6</td>\n",
       "      <td>7</td>\n",
       "      <td>21</td>\n",
       "    </tr>\n",
       "    <tr>\n",
       "      <td>7</td>\n",
       "      <td>8</td>\n",
       "      <td>22</td>\n",
       "    </tr>\n",
       "    <tr>\n",
       "      <td>8</td>\n",
       "      <td>9</td>\n",
       "      <td>24</td>\n",
       "    </tr>\n",
       "    <tr>\n",
       "      <td>9</td>\n",
       "      <td>10</td>\n",
       "      <td>41</td>\n",
       "    </tr>\n",
       "  </tbody>\n",
       "</table>\n",
       "</div>"
      ],
      "text/plain": [
       "  10진수 124나라\n",
       "0    1     1\n",
       "1    2     2\n",
       "2    3     4\n",
       "3    4    11\n",
       "4    5    12\n",
       "5    6    14\n",
       "6    7    21\n",
       "7    8    22\n",
       "8    9    24\n",
       "9   10    41"
      ]
     },
     "execution_count": 56,
     "metadata": {},
     "output_type": "execute_result"
    }
   ],
   "source": [
    "pd.DataFrame(example)"
   ]
  },
  {
   "cell_type": "markdown",
   "metadata": {},
   "source": [
    "### code"
   ]
  },
  {
   "cell_type": "code",
   "execution_count": 52,
   "metadata": {},
   "outputs": [],
   "source": [
    "def solution(n):\n",
    "    ls = []\n",
    "    ls.append(n%3)\n",
    "    while True:\n",
    "        n = n//3\n",
    "        if n < 3:\n",
    "            ls.append(n)\n",
    "            break\n",
    "        else:\n",
    "            ls.append(n%3)\n",
    "\n",
    "    m = 0\n",
    "    new_ls =[]\n",
    "    for num in ls:\n",
    "        num = num -m\n",
    "        if num == 0:\n",
    "            new_ls.append(\"4\")\n",
    "            m = 1\n",
    "        elif num == -1:\n",
    "            new_ls.append(\"2\")\n",
    "            m = 1\n",
    "        else :\n",
    "            new_ls.append(str(num))\n",
    "            m = 0\n",
    "    \n",
    "    new_ls = new_ls[::-1]\n",
    "\n",
    "    if new_ls[0] == \"4\":\n",
    "        new_ls.pop(0)\n",
    "\n",
    "    new_ls = \"\".join(new_ls)\n",
    "    return new_ls"
   ]
  }
 ],
 "metadata": {
  "kernelspec": {
   "display_name": "Python 3",
   "language": "python",
   "name": "python3"
  },
  "language_info": {
   "codemirror_mode": {
    "name": "ipython",
    "version": 3
   },
   "file_extension": ".py",
   "mimetype": "text/x-python",
   "name": "python",
   "nbconvert_exporter": "python",
   "pygments_lexer": "ipython3",
   "version": "3.7.4"
  }
 },
 "nbformat": 4,
 "nbformat_minor": 2
}
